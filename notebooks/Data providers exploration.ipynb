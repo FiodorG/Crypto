{
 "cells": [
  {
   "cell_type": "code",
   "execution_count": 1,
   "metadata": {},
   "outputs": [],
   "source": [
    "import pandas as pd\n",
    "import requests"
   ]
  },
  {
   "cell_type": "markdown",
   "metadata": {},
   "source": [
    "# Bitcoincharts"
   ]
  },
  {
   "cell_type": "markdown",
   "metadata": {},
   "source": [
    "From http://api.bitcoincharts.com/v1/csv/"
   ]
  },
  {
   "cell_type": "code",
   "execution_count": 11,
   "metadata": {},
   "outputs": [],
   "source": [
    "df = pd.read_csv(\".coinbaseUSD.csv\", header=None)"
   ]
  },
  {
   "cell_type": "code",
   "execution_count": 13,
   "metadata": {},
   "outputs": [],
   "source": [
    "df.columns = [\"datetime\", \"price\", \"quantity\"]\n",
    "df[\"datetime\"] = df[\"datetime\"].apply(lambda x: dt.datetime.fromtimestamp(x))\n",
    "df.set_index(\"datetime\", inplace=True)"
   ]
  },
  {
   "cell_type": "code",
   "execution_count": 16,
   "metadata": {},
   "outputs": [
    {
     "data": {
      "text/html": [
       "<div>\n",
       "<style scoped>\n",
       "    .dataframe tbody tr th:only-of-type {\n",
       "        vertical-align: middle;\n",
       "    }\n",
       "\n",
       "    .dataframe tbody tr th {\n",
       "        vertical-align: top;\n",
       "    }\n",
       "\n",
       "    .dataframe thead th {\n",
       "        text-align: right;\n",
       "    }\n",
       "</style>\n",
       "<table border=\"1\" class=\"dataframe\">\n",
       "  <thead>\n",
       "    <tr style=\"text-align: right;\">\n",
       "      <th></th>\n",
       "      <th>datetime</th>\n",
       "      <th>price</th>\n",
       "      <th>quantity</th>\n",
       "    </tr>\n",
       "  </thead>\n",
       "  <tbody>\n",
       "    <tr>\n",
       "      <th>0</th>\n",
       "      <td>2014-12-01 05:33:56</td>\n",
       "      <td>300.00</td>\n",
       "      <td>0.010000</td>\n",
       "    </tr>\n",
       "    <tr>\n",
       "      <th>1</th>\n",
       "      <td>2014-12-01 05:40:23</td>\n",
       "      <td>300.00</td>\n",
       "      <td>0.010000</td>\n",
       "    </tr>\n",
       "    <tr>\n",
       "      <th>2</th>\n",
       "      <td>2014-12-01 06:24:08</td>\n",
       "      <td>370.00</td>\n",
       "      <td>0.010000</td>\n",
       "    </tr>\n",
       "    <tr>\n",
       "      <th>3</th>\n",
       "      <td>2014-12-01 06:50:12</td>\n",
       "      <td>370.00</td>\n",
       "      <td>0.026556</td>\n",
       "    </tr>\n",
       "    <tr>\n",
       "      <th>4</th>\n",
       "      <td>2014-12-02 05:29:26</td>\n",
       "      <td>377.00</td>\n",
       "      <td>0.010000</td>\n",
       "    </tr>\n",
       "    <tr>\n",
       "      <th>5</th>\n",
       "      <td>2014-12-02 10:59:09</td>\n",
       "      <td>377.75</td>\n",
       "      <td>0.250000</td>\n",
       "    </tr>\n",
       "    <tr>\n",
       "      <th>6</th>\n",
       "      <td>2014-12-02 10:59:09</td>\n",
       "      <td>378.00</td>\n",
       "      <td>3.750000</td>\n",
       "    </tr>\n",
       "    <tr>\n",
       "      <th>7</th>\n",
       "      <td>2014-12-02 11:04:17</td>\n",
       "      <td>378.00</td>\n",
       "      <td>4.900000</td>\n",
       "    </tr>\n",
       "    <tr>\n",
       "      <th>8</th>\n",
       "      <td>2014-12-02 11:05:40</td>\n",
       "      <td>378.00</td>\n",
       "      <td>5.200000</td>\n",
       "    </tr>\n",
       "    <tr>\n",
       "      <th>9</th>\n",
       "      <td>2014-12-02 18:43:00</td>\n",
       "      <td>378.00</td>\n",
       "      <td>0.100000</td>\n",
       "    </tr>\n",
       "  </tbody>\n",
       "</table>\n",
       "</div>"
      ],
      "text/plain": [
       "             datetime   price  quantity\n",
       "0 2014-12-01 05:33:56  300.00  0.010000\n",
       "1 2014-12-01 05:40:23  300.00  0.010000\n",
       "2 2014-12-01 06:24:08  370.00  0.010000\n",
       "3 2014-12-01 06:50:12  370.00  0.026556\n",
       "4 2014-12-02 05:29:26  377.00  0.010000\n",
       "5 2014-12-02 10:59:09  377.75  0.250000\n",
       "6 2014-12-02 10:59:09  378.00  3.750000\n",
       "7 2014-12-02 11:04:17  378.00  4.900000\n",
       "8 2014-12-02 11:05:40  378.00  5.200000\n",
       "9 2014-12-02 18:43:00  378.00  0.100000"
      ]
     },
     "execution_count": 16,
     "metadata": {},
     "output_type": "execute_result"
    }
   ],
   "source": [
    "df.head(10)"
   ]
  },
  {
   "cell_type": "code",
   "execution_count": 19,
   "metadata": {},
   "outputs": [
    {
     "name": "stdout",
     "output_type": "stream",
     "text": [
      "<class 'pandas.core.frame.DataFrame'>\n",
      "DatetimeIndex: 56615868 entries, 2014-12-01 05:33:56 to 2019-01-07 22:06:59\n",
      "Data columns (total 2 columns):\n",
      " #   Column    Dtype  \n",
      "---  ------    -----  \n",
      " 0   price     float64\n",
      " 1   quantity  float64\n",
      "dtypes: float64(2)\n",
      "memory usage: 1.3 GB\n"
     ]
    }
   ],
   "source": [
    "df.info()"
   ]
  },
  {
   "cell_type": "code",
   "execution_count": 18,
   "metadata": {},
   "outputs": [
    {
     "data": {
      "text/plain": [
       "<matplotlib.axes._subplots.AxesSubplot at 0x264b6dfab88>"
      ]
     },
     "execution_count": 18,
     "metadata": {},
     "output_type": "execute_result"
    },
    {
     "data": {
      "image/png": "[encoded data removed]",
      "text/plain": [
       "<Figure size 432x288 with 1 Axes>"
      ]
     },
     "metadata": {
      "needs_background": "light"
     },
     "output_type": "display_data"
    }
   ],
   "source": [
    "df[\"price\"].plot()"
   ]
  },
  {
   "cell_type": "markdown",
   "metadata": {},
   "source": [
    "# Coinapi"
   ]
  },
  {
   "cell_type": "code",
   "execution_count": 67,
   "metadata": {},
   "outputs": [],
   "source": [
    "url = 'https://rest.coinapi.io/v1/ohlcv/BTC/USD/history?period_id=1MIN&time_start=2017-01-01T00:00:00'\n",
    "headers = {'X-CoinAPI-Key' : 'D973D75A-C45D-4967-B0EB-12130342636B'}\n",
    "response = requests.get(url, headers=headers)"
   ]
  },
  {
   "cell_type": "code",
   "execution_count": 68,
   "metadata": {},
   "outputs": [
    {
     "data": {
      "text/plain": [
       "<Response [200]>"
      ]
     },
     "execution_count": 68,
     "metadata": {},
     "output_type": "execute_result"
    }
   ],
   "source": [
    "response"
   ]
  },
  {
   "cell_type": "code",
   "execution_count": 70,
   "metadata": {},
   "outputs": [],
   "source": [
    "df = pd.DataFrame(response.json())"
   ]
  },
  {
   "cell_type": "code",
   "execution_count": 69,
   "metadata": {},
   "outputs": [
    {
     "data": {
      "text/html": [
       "<div>\n",
       "<style scoped>\n",
       "    .dataframe tbody tr th:only-of-type {\n",
       "        vertical-align: middle;\n",
       "    }\n",
       "\n",
       "    .dataframe tbody tr th {\n",
       "        vertical-align: top;\n",
       "    }\n",
       "\n",
       "    .dataframe thead th {\n",
       "        text-align: right;\n",
       "    }\n",
       "</style>\n",
       "<table border=\"1\" class=\"dataframe\">\n",
       "  <thead>\n",
       "    <tr style=\"text-align: right;\">\n",
       "      <th></th>\n",
       "      <th>time_period_start</th>\n",
       "      <th>time_period_end</th>\n",
       "      <th>time_open</th>\n",
       "      <th>time_close</th>\n",
       "      <th>price_open</th>\n",
       "      <th>price_high</th>\n",
       "      <th>price_low</th>\n",
       "      <th>price_close</th>\n",
       "      <th>volume_traded</th>\n",
       "      <th>trades_count</th>\n",
       "    </tr>\n",
       "  </thead>\n",
       "  <tbody>\n",
       "    <tr>\n",
       "      <th>0</th>\n",
       "      <td>2016-01-01T00:00:00.0000000Z</td>\n",
       "      <td>2016-01-01T00:01:00.0000000Z</td>\n",
       "      <td>2016-01-01T00:00:16.0000000Z</td>\n",
       "      <td>2016-01-01T00:00:16.0000000Z</td>\n",
       "      <td>430.35</td>\n",
       "      <td>430.39</td>\n",
       "      <td>430.35</td>\n",
       "      <td>430.39</td>\n",
       "      <td>0.072700</td>\n",
       "      <td>4</td>\n",
       "    </tr>\n",
       "    <tr>\n",
       "      <th>1</th>\n",
       "      <td>2016-01-01T00:01:00.0000000Z</td>\n",
       "      <td>2016-01-01T00:02:00.0000000Z</td>\n",
       "      <td>2016-01-01T00:01:01.1500000Z</td>\n",
       "      <td>2016-01-01T00:01:46.0000000Z</td>\n",
       "      <td>430.89</td>\n",
       "      <td>430.89</td>\n",
       "      <td>430.38</td>\n",
       "      <td>430.40</td>\n",
       "      <td>1.028431</td>\n",
       "      <td>7</td>\n",
       "    </tr>\n",
       "    <tr>\n",
       "      <th>2</th>\n",
       "      <td>2016-01-01T00:02:00.0000000Z</td>\n",
       "      <td>2016-01-01T00:03:00.0000000Z</td>\n",
       "      <td>2016-01-01T00:02:13.8870000Z</td>\n",
       "      <td>2016-01-01T00:02:46.4830000Z</td>\n",
       "      <td>430.89</td>\n",
       "      <td>430.89</td>\n",
       "      <td>430.40</td>\n",
       "      <td>430.89</td>\n",
       "      <td>1.776657</td>\n",
       "      <td>4</td>\n",
       "    </tr>\n",
       "    <tr>\n",
       "      <th>3</th>\n",
       "      <td>2016-01-01T00:03:00.0000000Z</td>\n",
       "      <td>2016-01-01T00:04:00.0000000Z</td>\n",
       "      <td>2016-01-01T00:03:16.0000000Z</td>\n",
       "      <td>2016-01-01T00:03:16.0000000Z</td>\n",
       "      <td>430.37</td>\n",
       "      <td>430.39</td>\n",
       "      <td>430.36</td>\n",
       "      <td>430.36</td>\n",
       "      <td>12.566300</td>\n",
       "      <td>5</td>\n",
       "    </tr>\n",
       "    <tr>\n",
       "      <th>4</th>\n",
       "      <td>2016-01-01T00:04:00.0000000Z</td>\n",
       "      <td>2016-01-01T00:05:00.0000000Z</td>\n",
       "      <td>2016-01-01T00:04:32.5200000Z</td>\n",
       "      <td>2016-01-01T00:04:52.3830000Z</td>\n",
       "      <td>430.19</td>\n",
       "      <td>431.06</td>\n",
       "      <td>430.19</td>\n",
       "      <td>431.06</td>\n",
       "      <td>2.985161</td>\n",
       "      <td>6</td>\n",
       "    </tr>\n",
       "  </tbody>\n",
       "</table>\n",
       "</div>"
      ],
      "text/plain": [
       "              time_period_start               time_period_end  \\\n",
       "0  2016-01-01T00:00:00.0000000Z  2016-01-01T00:01:00.0000000Z   \n",
       "1  2016-01-01T00:01:00.0000000Z  2016-01-01T00:02:00.0000000Z   \n",
       "2  2016-01-01T00:02:00.0000000Z  2016-01-01T00:03:00.0000000Z   \n",
       "3  2016-01-01T00:03:00.0000000Z  2016-01-01T00:04:00.0000000Z   \n",
       "4  2016-01-01T00:04:00.0000000Z  2016-01-01T00:05:00.0000000Z   \n",
       "\n",
       "                      time_open                    time_close  price_open  \\\n",
       "0  2016-01-01T00:00:16.0000000Z  2016-01-01T00:00:16.0000000Z      430.35   \n",
       "1  2016-01-01T00:01:01.1500000Z  2016-01-01T00:01:46.0000000Z      430.89   \n",
       "2  2016-01-01T00:02:13.8870000Z  2016-01-01T00:02:46.4830000Z      430.89   \n",
       "3  2016-01-01T00:03:16.0000000Z  2016-01-01T00:03:16.0000000Z      430.37   \n",
       "4  2016-01-01T00:04:32.5200000Z  2016-01-01T00:04:52.3830000Z      430.19   \n",
       "\n",
       "   price_high  price_low  price_close  volume_traded  trades_count  \n",
       "0      430.39     430.35       430.39       0.072700             4  \n",
       "1      430.89     430.38       430.40       1.028431             7  \n",
       "2      430.89     430.40       430.89       1.776657             4  \n",
       "3      430.39     430.36       430.36      12.566300             5  \n",
       "4      431.06     430.19       431.06       2.985161             6  "
      ]
     },
     "execution_count": 69,
     "metadata": {},
     "output_type": "execute_result"
    }
   ],
   "source": [
    "df.head()"
   ]
  },
  {
   "cell_type": "code",
   "execution_count": 66,
   "metadata": {},
   "outputs": [
    {
     "name": "stdout",
     "output_type": "stream",
     "text": [
      "<class 'pandas.core.frame.DataFrame'>\n",
      "RangeIndex: 100 entries, 0 to 99\n",
      "Data columns (total 10 columns):\n",
      " #   Column             Non-Null Count  Dtype  \n",
      "---  ------             --------------  -----  \n",
      " 0   time_period_start  100 non-null    object \n",
      " 1   time_period_end    100 non-null    object \n",
      " 2   time_open          100 non-null    object \n",
      " 3   time_close         100 non-null    object \n",
      " 4   price_open         100 non-null    float64\n",
      " 5   price_high         100 non-null    float64\n",
      " 6   price_low          100 non-null    float64\n",
      " 7   price_close        100 non-null    float64\n",
      " 8   volume_traded      100 non-null    float64\n",
      " 9   trades_count       100 non-null    int64  \n",
      "dtypes: float64(5), int64(1), object(4)\n",
      "memory usage: 7.9+ KB\n"
     ]
    }
   ],
   "source": [
    "df.info()"
   ]
  },
  {
   "cell_type": "markdown",
   "metadata": {},
   "source": [
    "# Cryptocompare"
   ]
  },
  {
   "cell_type": "code",
   "execution_count": 86,
   "metadata": {},
   "outputs": [],
   "source": [
    "url = 'https://min-api.cryptocompare.com/data/v2/histominute?fsym=BTC&tsym=USD&limit=2000&e=Coinbase'\n",
    "headers = {}\n",
    "response = requests.get(url, headers=headers)"
   ]
  },
  {
   "cell_type": "code",
   "execution_count": 87,
   "metadata": {},
   "outputs": [
    {
     "data": {
      "text/plain": [
       "<Response [200]>"
      ]
     },
     "execution_count": 87,
     "metadata": {},
     "output_type": "execute_result"
    }
   ],
   "source": [
    "response"
   ]
  },
  {
   "cell_type": "code",
   "execution_count": 88,
   "metadata": {},
   "outputs": [
    {
     "data": {
      "text/html": [
       "<div>\n",
       "<style scoped>\n",
       "    .dataframe tbody tr th:only-of-type {\n",
       "        vertical-align: middle;\n",
       "    }\n",
       "\n",
       "    .dataframe tbody tr th {\n",
       "        vertical-align: top;\n",
       "    }\n",
       "\n",
       "    .dataframe thead th {\n",
       "        text-align: right;\n",
       "    }\n",
       "</style>\n",
       "<table border=\"1\" class=\"dataframe\">\n",
       "  <thead>\n",
       "    <tr style=\"text-align: right;\">\n",
       "      <th></th>\n",
       "      <th>time</th>\n",
       "      <th>close</th>\n",
       "      <th>high</th>\n",
       "      <th>low</th>\n",
       "      <th>open</th>\n",
       "      <th>volumefrom</th>\n",
       "      <th>volumeto</th>\n",
       "      <th>conversionType</th>\n",
       "      <th>conversionSymbol</th>\n",
       "      <th>datetime</th>\n",
       "    </tr>\n",
       "  </thead>\n",
       "  <tbody>\n",
       "    <tr>\n",
       "      <th>0</th>\n",
       "      <td>1618382760</td>\n",
       "      <td>64626.92</td>\n",
       "      <td>64665.90</td>\n",
       "      <td>64615.68</td>\n",
       "      <td>64652.10</td>\n",
       "      <td>11.400</td>\n",
       "      <td>737190.20</td>\n",
       "      <td>force_direct</td>\n",
       "      <td></td>\n",
       "      <td>2021-04-14 07:46:00</td>\n",
       "    </tr>\n",
       "    <tr>\n",
       "      <th>1</th>\n",
       "      <td>1618382820</td>\n",
       "      <td>64564.27</td>\n",
       "      <td>64626.92</td>\n",
       "      <td>64552.66</td>\n",
       "      <td>64626.92</td>\n",
       "      <td>5.531</td>\n",
       "      <td>357128.56</td>\n",
       "      <td>force_direct</td>\n",
       "      <td></td>\n",
       "      <td>2021-04-14 07:47:00</td>\n",
       "    </tr>\n",
       "    <tr>\n",
       "      <th>2</th>\n",
       "      <td>1618382880</td>\n",
       "      <td>64611.00</td>\n",
       "      <td>64617.48</td>\n",
       "      <td>64564.27</td>\n",
       "      <td>64564.27</td>\n",
       "      <td>2.049</td>\n",
       "      <td>132326.03</td>\n",
       "      <td>force_direct</td>\n",
       "      <td></td>\n",
       "      <td>2021-04-14 07:48:00</td>\n",
       "    </tr>\n",
       "    <tr>\n",
       "      <th>3</th>\n",
       "      <td>1618382940</td>\n",
       "      <td>64641.98</td>\n",
       "      <td>64650.00</td>\n",
       "      <td>64601.75</td>\n",
       "      <td>64611.00</td>\n",
       "      <td>5.177</td>\n",
       "      <td>334579.03</td>\n",
       "      <td>force_direct</td>\n",
       "      <td></td>\n",
       "      <td>2021-04-14 07:49:00</td>\n",
       "    </tr>\n",
       "    <tr>\n",
       "      <th>4</th>\n",
       "      <td>1618383000</td>\n",
       "      <td>64615.44</td>\n",
       "      <td>64641.99</td>\n",
       "      <td>64601.75</td>\n",
       "      <td>64641.98</td>\n",
       "      <td>9.677</td>\n",
       "      <td>625297.07</td>\n",
       "      <td>force_direct</td>\n",
       "      <td></td>\n",
       "      <td>2021-04-14 07:50:00</td>\n",
       "    </tr>\n",
       "    <tr>\n",
       "      <th>...</th>\n",
       "      <td>...</td>\n",
       "      <td>...</td>\n",
       "      <td>...</td>\n",
       "      <td>...</td>\n",
       "      <td>...</td>\n",
       "      <td>...</td>\n",
       "      <td>...</td>\n",
       "      <td>...</td>\n",
       "      <td>...</td>\n",
       "      <td>...</td>\n",
       "    </tr>\n",
       "    <tr>\n",
       "      <th>1996</th>\n",
       "      <td>1618502520</td>\n",
       "      <td>62773.20</td>\n",
       "      <td>62818.54</td>\n",
       "      <td>62739.26</td>\n",
       "      <td>62805.01</td>\n",
       "      <td>9.255</td>\n",
       "      <td>581066.32</td>\n",
       "      <td>force_direct</td>\n",
       "      <td></td>\n",
       "      <td>2021-04-15 17:02:00</td>\n",
       "    </tr>\n",
       "    <tr>\n",
       "      <th>1997</th>\n",
       "      <td>1618502580</td>\n",
       "      <td>62709.98</td>\n",
       "      <td>62773.20</td>\n",
       "      <td>62705.08</td>\n",
       "      <td>62773.20</td>\n",
       "      <td>5.637</td>\n",
       "      <td>353647.28</td>\n",
       "      <td>force_direct</td>\n",
       "      <td></td>\n",
       "      <td>2021-04-15 17:03:00</td>\n",
       "    </tr>\n",
       "    <tr>\n",
       "      <th>1998</th>\n",
       "      <td>1618502640</td>\n",
       "      <td>62706.92</td>\n",
       "      <td>62711.92</td>\n",
       "      <td>62650.04</td>\n",
       "      <td>62709.98</td>\n",
       "      <td>13.560</td>\n",
       "      <td>849899.05</td>\n",
       "      <td>force_direct</td>\n",
       "      <td></td>\n",
       "      <td>2021-04-15 17:04:00</td>\n",
       "    </tr>\n",
       "    <tr>\n",
       "      <th>1999</th>\n",
       "      <td>1618502700</td>\n",
       "      <td>62642.20</td>\n",
       "      <td>62719.61</td>\n",
       "      <td>62642.20</td>\n",
       "      <td>62706.92</td>\n",
       "      <td>8.638</td>\n",
       "      <td>541410.65</td>\n",
       "      <td>force_direct</td>\n",
       "      <td></td>\n",
       "      <td>2021-04-15 17:05:00</td>\n",
       "    </tr>\n",
       "    <tr>\n",
       "      <th>2000</th>\n",
       "      <td>1618502760</td>\n",
       "      <td>62784.77</td>\n",
       "      <td>62784.77</td>\n",
       "      <td>62642.20</td>\n",
       "      <td>62642.20</td>\n",
       "      <td>0.000</td>\n",
       "      <td>0.00</td>\n",
       "      <td>force_direct</td>\n",
       "      <td></td>\n",
       "      <td>2021-04-15 17:06:00</td>\n",
       "    </tr>\n",
       "  </tbody>\n",
       "</table>\n",
       "<p>2001 rows × 10 columns</p>\n",
       "</div>"
      ],
      "text/plain": [
       "            time     close      high       low      open  volumefrom  \\\n",
       "0     1618382760  64626.92  64665.90  64615.68  64652.10      11.400   \n",
       "1     1618382820  64564.27  64626.92  64552.66  64626.92       5.531   \n",
       "2     1618382880  64611.00  64617.48  64564.27  64564.27       2.049   \n",
       "3     1618382940  64641.98  64650.00  64601.75  64611.00       5.177   \n",
       "4     1618383000  64615.44  64641.99  64601.75  64641.98       9.677   \n",
       "...          ...       ...       ...       ...       ...         ...   \n",
       "1996  1618502520  62773.20  62818.54  62739.26  62805.01       9.255   \n",
       "1997  1618502580  62709.98  62773.20  62705.08  62773.20       5.637   \n",
       "1998  1618502640  62706.92  62711.92  62650.04  62709.98      13.560   \n",
       "1999  1618502700  62642.20  62719.61  62642.20  62706.92       8.638   \n",
       "2000  1618502760  62784.77  62784.77  62642.20  62642.20       0.000   \n",
       "\n",
       "       volumeto conversionType conversionSymbol            datetime  \n",
       "0     737190.20   force_direct                  2021-04-14 07:46:00  \n",
       "1     357128.56   force_direct                  2021-04-14 07:47:00  \n",
       "2     132326.03   force_direct                  2021-04-14 07:48:00  \n",
       "3     334579.03   force_direct                  2021-04-14 07:49:00  \n",
       "4     625297.07   force_direct                  2021-04-14 07:50:00  \n",
       "...         ...            ...              ...                 ...  \n",
       "1996  581066.32   force_direct                  2021-04-15 17:02:00  \n",
       "1997  353647.28   force_direct                  2021-04-15 17:03:00  \n",
       "1998  849899.05   force_direct                  2021-04-15 17:04:00  \n",
       "1999  541410.65   force_direct                  2021-04-15 17:05:00  \n",
       "2000       0.00   force_direct                  2021-04-15 17:06:00  \n",
       "\n",
       "[2001 rows x 10 columns]"
      ]
     },
     "execution_count": 88,
     "metadata": {},
     "output_type": "execute_result"
    }
   ],
   "source": [
    "df = pd.DataFrame(response.json()[\"Data\"][\"Data\"])\n",
    "df[\"datetime\"] = df[\"time\"].apply(lambda x: dt.datetime.fromtimestamp(x))\n",
    "df"
   ]
  },
  {
   "cell_type": "code",
   "execution_count": 79,
   "metadata": {},
   "outputs": [
    {
     "name": "stdout",
     "output_type": "stream",
     "text": [
      "<class 'pandas.core.frame.DataFrame'>\n",
      "RangeIndex: 2001 entries, 0 to 2000\n",
      "Data columns (total 9 columns):\n",
      " #   Column            Non-Null Count  Dtype  \n",
      "---  ------            --------------  -----  \n",
      " 0   time              2001 non-null   int64  \n",
      " 1   high              2001 non-null   float64\n",
      " 2   low               2001 non-null   float64\n",
      " 3   open              2001 non-null   float64\n",
      " 4   volumefrom        2001 non-null   float64\n",
      " 5   volumeto          2001 non-null   float64\n",
      " 6   close             2001 non-null   float64\n",
      " 7   conversionType    2001 non-null   object \n",
      " 8   conversionSymbol  2001 non-null   object \n",
      "dtypes: float64(6), int64(1), object(2)\n",
      "memory usage: 140.8+ KB\n"
     ]
    }
   ],
   "source": [
    "df.info()"
   ]
  }
 ],
 "metadata": {
  "kernelspec": {
   "display_name": "Python 3",
   "language": "python",
   "name": "python3"
  },
  "language_info": {
   "codemirror_mode": {
    "name": "ipython",
    "version": 3
   },
   "file_extension": ".py",
   "mimetype": "text/x-python",
   "name": "python",
   "nbconvert_exporter": "python",
   "pygments_lexer": "ipython3",
   "version": "3.8.5"
  }
 },
 "nbformat": 4,
 "nbformat_minor": 4
}
