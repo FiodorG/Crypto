{
 "cells": [
  {
   "cell_type": "code",
   "execution_count": 2,
   "metadata": {},
   "outputs": [],
   "source": [
    "import datetime as dt\n",
    "import pandas as pd\n",
    "from typing import Union, List\n",
    "from os import listdir\n",
    "from os.path import isfile, join"
   ]
  },
  {
   "cell_type": "code",
   "execution_count": 21,
   "metadata": {},
   "outputs": [],
   "source": [
    "data_path = \"../data/\"\n",
    "files = [f for f in listdir(data_path) if \"1min.txt\" in f]"
   ]
  },
  {
   "cell_type": "code",
   "execution_count": 35,
   "metadata": {},
   "outputs": [],
   "source": [
    "res = {}\n",
    "for file in files:\n",
    "    df = pd.read_csv(f'../data/{file}', delimiter = \",\", header=None)\n",
    "    df.columns = [\"datetime\", \"open\", \"high\", \"low\", \"close\", \"volume\"]\n",
    "    df.set_index(\"datetime\", inplace=True)\n",
    "    df = df[~df.index.duplicated(keep='last')]\n",
    "    asset = file.split(\"_1min\")[0]\n",
    "    res[asset] = df"
   ]
  },
  {
   "cell_type": "code",
   "execution_count": 36,
   "metadata": {},
   "outputs": [],
   "source": [
    "field = \"close\"\n",
    "data = {}\n",
    "for asset, df in res.items():\n",
    "    data[asset] = df[field]\n",
    "    \n",
    "data = pd.DataFrame(data).ffill()\n",
    "data.index = pd.to_datetime(data.index)\n",
    "data.to_csv(f\"../data/{field}.csv\")"
   ]
  }
 ],
 "metadata": {
  "kernelspec": {
   "display_name": "Python 3",
   "language": "python",
   "name": "python3"
  },
  "language_info": {
   "codemirror_mode": {
    "name": "ipython",
    "version": 3
   },
   "file_extension": ".py",
   "mimetype": "text/x-python",
   "name": "python",
   "nbconvert_exporter": "python",
   "pygments_lexer": "ipython3",
   "version": "3.8.5"
  }
 },
 "nbformat": 4,
 "nbformat_minor": 4
}
